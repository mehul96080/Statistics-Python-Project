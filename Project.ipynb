{
 "cells": [
  {
   "cell_type": "markdown",
   "id": "d1bf1d5f-31a4-4791-b26e-81de7038d1cd",
   "metadata": {},
   "source": [
    "Project 4\n",
    "Sabrina was assigned the task of collecting random samples from male Healthy Life members who were recently hospitalized in the Greater Toronto Area (GTA) due to heart attacks. She compiled two large separate datasets: one consisting of male Toronto residents who smoked and another consisting of male Toronto residents who never smoked. The aim of this research is to provide evidence that smoking is a risk factor for early occurrence of the first heart attack. After conducting a thorough analysis of the data, Sabrina formulated a hypothesis suggesting that, on average, male smokers who experience their first heart attack are six years younger than male non-smokers who experience their first heart attack. Please calculate sample variances for both samples and decide (depending on the sample variances) what function is most appropriate: Data Analysis t-Test: Two-Sample Assuming Equal Variances or Data Analysis t-Test: Two-Sample Assuming Unequal Variances. Please help Sabrina to conduct the test at 5% significance level. As it is known that both samples come from normally distributed populations, no histograms are required."
   ]
  },
  {
   "cell_type": "code",
   "execution_count": 2,
   "id": "5c6e6735-18f6-4215-99cc-4836ae4af4c4",
   "metadata": {},
   "outputs": [
    {
     "name": "stdout",
     "output_type": "stream",
     "text": [
      "t-statistic: 3.061\n",
      "p-value: 0.003\n",
      "Reject the null hypothesis. There is a significant difference in the ages of first heart attacks between smokers and non-smokers.\n"
     ]
    }
   ],
   "source": [
    "\n",
    "import pandas as pd \n",
    "import scipy.stats as stats\n",
    "\n",
    "data = pd.read_excel('Sabrina Data.xlsx')\n",
    "\n",
    "data=data[['Nonsmoking Patients','Smoking Patients']]\n",
    "data=data.iloc[:64, :]\n",
    "non_smokers = data['Nonsmoking Patients']\n",
    "smokers = data['Smoking Patients']\n",
    "non_smokers.dropna(inplace=True)\n",
    "smokers.dropna(inplace=True)\n",
    "\n",
    "t_statistic, p_value = stats.ttest_ind(non_smokers.values, smokers.values, equal_var=False)\n",
    "print('t-statistic:',round(t_statistic, 3))\n",
    "print('p-value:', round(p_value, 3))\n",
    "\n",
    "alpha = 0.05\n",
    "if p_value < alpha:\n",
    "    print(\"Reject the null hypothesis. There is a significant difference in the ages of first heart attacks between smokers and non-smokers.\")\n",
    "else:\n",
    "    print(\"Fail to reject the null hypothesis. There is no significant difference in the ages of first heart attacks between smokers and non-smokers.\")"
   ]
  },
  {
   "cell_type": "code",
   "execution_count": null,
   "id": "5876cdb6-6d9e-47b1-bb11-37f1e5e8fc99",
   "metadata": {},
   "outputs": [],
   "source": []
  }
 ],
 "metadata": {
  "kernelspec": {
   "display_name": "Python 3 (ipykernel)",
   "language": "python",
   "name": "python3"
  },
  "language_info": {
   "codemirror_mode": {
    "name": "ipython",
    "version": 3
   },
   "file_extension": ".py",
   "mimetype": "text/x-python",
   "name": "python",
   "nbconvert_exporter": "python",
   "pygments_lexer": "ipython3",
   "version": "3.11.7"
  }
 },
 "nbformat": 4,
 "nbformat_minor": 5
}
